{
 "cells": [
  {
   "cell_type": "markdown",
   "id": "20e28f67-5d68-410a-9a35-780788885641",
   "metadata": {},
   "source": [
    "# Data Science Tools and Ecosystem"
   ]
  },
  {
   "cell_type": "markdown",
   "id": "43ceeb4a-a783-49f4-b44e-17730fd4b7e2",
   "metadata": {},
   "source": [
    "In this notebook, Data Science Tools and Ecosystem are summarized."
   ]
  },
  {
   "cell_type": "markdown",
   "id": "ee76f52b-7a97-491c-b9df-c4974e4a7bfa",
   "metadata": {},
   "source": [
    "**Objectives**\n",
    "- List popular languages for Data Science\n",
    "- List commonly used libraries used by Data Scientists\n",
    "- Create a table indicating three development environment open source tools used in Data Science\n",
    "- Make mathemetical operations using code"
   ]
  },
  {
   "cell_type": "markdown",
   "id": "5bb9b1cb-cb7e-4c0b-949d-f3659217311d",
   "metadata": {},
   "source": [
    "Some of the popular languages that Data Scientists use are:\n",
    "1. Python\n",
    "2. R\n",
    "3. SQL "
   ]
  },
  {
   "cell_type": "markdown",
   "id": "b8daa572-1e22-4f19-8995-c0f7760d40a4",
   "metadata": {},
   "source": [
    "Some of the commonly used libraries used by Data Scientists include:\n",
    "1. Pandas\n",
    "2. NumPy\n",
    "3. Matplotlib"
   ]
  },
  {
   "cell_type": "markdown",
   "id": "6929bacc-6d5c-4128-8098-b40f82fa0c37",
   "metadata": {},
   "source": [
    "|Data Science Tools|\n",
    "| ---------------- |\n",
    "|Jupyter Notebooks |\n",
    "|Jupyter Labs      |\n",
    "|RStudio           |"
   ]
  },
  {
   "cell_type": "markdown",
   "id": "ea70993e-a844-4816-91dc-e3d6796b5885",
   "metadata": {},
   "source": [
    "### Below are a few examples of evaluating arithmetic expressions in Python"
   ]
  },
  {
   "cell_type": "code",
   "execution_count": 2,
   "id": "ad284132-5710-4963-abcb-0fae15eeff63",
   "metadata": {},
   "outputs": [
    {
     "data": {
      "text/plain": [
       "17"
      ]
     },
     "execution_count": 2,
     "metadata": {},
     "output_type": "execute_result"
    }
   ],
   "source": [
    "#This a simple arithmetic expression to multiply then add integers\n",
    "(3*4)+5"
   ]
  },
  {
   "cell_type": "code",
   "execution_count": 3,
   "id": "62a7d0c7-1ca0-4010-9870-2b90f4e4d33b",
   "metadata": {},
   "outputs": [
    {
     "data": {
      "text/plain": [
       "3.3333333333333335"
      ]
     },
     "execution_count": 3,
     "metadata": {},
     "output_type": "execute_result"
    }
   ],
   "source": [
    "#This will convert 200 minutes to hours by diving by 60\n",
    "(200/60)"
   ]
  },
  {
   "cell_type": "markdown",
   "id": "2e0bdd86-d60c-4fa7-aea2-2bd18b267142",
   "metadata": {},
   "source": [
    "## Author\n",
    "Alexandra Monarrez Aguilar"
   ]
  }
 ],
 "metadata": {
  "kernelspec": {
   "display_name": "Python 3 (ipykernel)",
   "language": "python",
   "name": "python3"
  },
  "language_info": {
   "codemirror_mode": {
    "name": "ipython",
    "version": 3
   },
   "file_extension": ".py",
   "mimetype": "text/x-python",
   "name": "python",
   "nbconvert_exporter": "python",
   "pygments_lexer": "ipython3",
   "version": "3.11.5"
  }
 },
 "nbformat": 4,
 "nbformat_minor": 5
}
